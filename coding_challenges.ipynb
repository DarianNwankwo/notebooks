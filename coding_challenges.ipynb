{
 "cells": [
  {
   "cell_type": "code",
   "execution_count": 77,
   "metadata": {},
   "outputs": [],
   "source": [
    "def updateLedger(ledger, sender_id, recipient_id):\n",
    "    if sender_id != recipient_id:\n",
    "        if sender_id not in ledger:\n",
    "            ledger[sender_id] = 1\n",
    "        else:\n",
    "            ledger[sender_id] += 1\n",
    "        if recipient_id not in ledger:\n",
    "            ledger[recipient_id] = 1\n",
    "        else:\n",
    "            ledger[recipient_id] += 1\n",
    "    else:\n",
    "        if sender_id not in ledger:\n",
    "            ledger[sender_id] = 1\n",
    "        else:\n",
    "            ledger[sender_id] += 1\n",
    "    \n",
    "    return ledger\n",
    "        \n",
    "    \n",
    "\n",
    "def processLogs(logs, threshold):\n",
    "    # Write your code here\n",
    "    ledger = {}\n",
    "    # iterate over logs where each element is a string\n",
    "    for log in logs:\n",
    "        sender_id, rec_id, trans_amount = log.split(\" \")\n",
    "        ledger = updateLedger(ledger, sender_id, rec_id)\n",
    "    \n",
    "    # convert to list of key-value pairs\n",
    "    id_trans_list = list(ledger.items())\n",
    "    # filter out elements that are beneath threshold\n",
    "    threshold_hit_list = filter(lambda el: el[1] >= threshold, id_trans_list)\n",
    "#     print(list(threshold_hit_list))\n",
    "    # sort based \n",
    "    threshold_hit_list = sorted(threshold_hit_list, key=lambda el: int(el[0]))\n",
    "    print(threshold_hit_list)\n",
    "    \n",
    "    return [el[0] for el in threshold_hit_list]"
   ]
  },
  {
   "cell_type": "code",
   "execution_count": 78,
   "metadata": {},
   "outputs": [
    {
     "name": "stdout",
     "output_type": "stream",
     "text": [
      "[('1', 3), ('2', 2)]\n"
     ]
    }
   ],
   "source": [
    "d = processLogs([\"1 2 50\", \"1 7 70\", \"1 3 20\", \"2 2 17\"], 2)"
   ]
  },
  {
   "cell_type": "code",
   "execution_count": 80,
   "metadata": {},
   "outputs": [
    {
     "data": {
      "text/plain": [
       "['1', '2']"
      ]
     },
     "execution_count": 80,
     "metadata": {},
     "output_type": "execute_result"
    }
   ],
   "source": [
    "d"
   ]
  },
  {
   "cell_type": "code",
   "execution_count": 90,
   "metadata": {},
   "outputs": [],
   "source": [
    "states = [\"UP\", \"RIGHT\", \"DOWN\", \"LEFT\"]\n",
    "cur_state_ndx = 0"
   ]
  },
  {
   "cell_type": "code",
   "execution_count": 103,
   "metadata": {},
   "outputs": [],
   "source": [
    "cur_state_ndx = (cur_state_ndx + len(states) - 1) % len(states)"
   ]
  },
  {
   "cell_type": "code",
   "execution_count": 104,
   "metadata": {},
   "outputs": [
    {
     "data": {
      "text/plain": [
       "2"
      ]
     },
     "execution_count": 104,
     "metadata": {},
     "output_type": "execute_result"
    }
   ],
   "source": [
    "cur_state_ndx"
   ]
  },
  {
   "cell_type": "code",
   "execution_count": 120,
   "metadata": {},
   "outputs": [],
   "source": [
    "def doesCircleExist(commands):\n",
    "    # We're looking for cycles in our commands\n",
    "    # ? Do we want to search for symmetries since a discrete step circle is \n",
    "    # effectively a square.\n",
    "    # ? Should I map commands to cartesian coordinates and search for cycles\n",
    "    states = [\"U\", \"R\", \"D\", \"L\"] # UP, RIGHT, DOWN, LEFT\n",
    "    cur_state_ndx = 0 # assume we're facing in the states[0] direction\n",
    "    results = []\n",
    "    \n",
    "    for command in commands:\n",
    "        instruction_counts = {\n",
    "            \"U\": 0,\n",
    "            \"R\": 0,\n",
    "            \"D\": 0,\n",
    "            \"L\": 0,\n",
    "        }\n",
    "        for instruction in command*4:\n",
    "            if instruction == \"G\":\n",
    "                direction = states[cur_state_ndx]\n",
    "                instruction_counts[direction] += 1\n",
    "            elif instruction == 'L':\n",
    "                cur_state_ndx = (cur_state_ndx + len(states) - 1) % len(states)\n",
    "            else:\n",
    "                cur_state_ndx = (cur_state_ndx + 1) % len(states)\n",
    "        \n",
    "        # Check for symmetries\n",
    "        circleExist = (instruction_counts[\"R\"] - instruction_counts[\"L\"] == 0) and \\\n",
    "                      (instruction_counts[\"U\"] - instruction_counts[\"D\"] == 0)\n",
    "        results.append(\"YES\") if circleExist else results.append(\"NO\")\n",
    "        print(instruction_counts)\n",
    "        \n",
    "        # reset instruction_counts and cur_state_ndx for next iteration\n",
    "        cur_state_ndx = 0\n",
    "        \n",
    "    return results"
   ]
  },
  {
   "cell_type": "code",
   "execution_count": 121,
   "metadata": {},
   "outputs": [
    {
     "name": "stdout",
     "output_type": "stream",
     "text": [
      "{'U': 4, 'R': 4, 'D': 4, 'L': 4}\n"
     ]
    },
    {
     "data": {
      "text/plain": [
       "['YES']"
      ]
     },
     "execution_count": 121,
     "metadata": {},
     "output_type": "execute_result"
    }
   ],
   "source": [
    "doesCircleExist([\"GGGGR\"])"
   ]
  },
  {
   "cell_type": "code",
   "execution_count": 110,
   "metadata": {},
   "outputs": [],
   "source": [
    "d = dict()"
   ]
  },
  {
   "cell_type": "code",
   "execution_count": 111,
   "metadata": {},
   "outputs": [],
   "source": [
    "?d.fromkeys"
   ]
  },
  {
   "cell_type": "code",
   "execution_count": 1,
   "metadata": {},
   "outputs": [
    {
     "ename": "NameError",
     "evalue": "name 'copy' is not defined",
     "output_type": "error",
     "traceback": [
      "\u001b[0;31m---------------------------------------------------------------------------\u001b[0m",
      "\u001b[0;31mNameError\u001b[0m                                 Traceback (most recent call last)",
      "\u001b[0;32m<ipython-input-1-0f00b731fbb1>\u001b[0m in \u001b[0;36m<module>\u001b[0;34m\u001b[0m\n\u001b[0;32m----> 1\u001b[0;31m \u001b[0mcopy\u001b[0m\u001b[0;34m\u001b[0m\u001b[0;34m\u001b[0m\u001b[0m\n\u001b[0m",
      "\u001b[0;31mNameError\u001b[0m: name 'copy' is not defined"
     ]
    }
   ],
   "source": [
    "copy"
   ]
  },
  {
   "cell_type": "code",
   "execution_count": 4,
   "metadata": {},
   "outputs": [
    {
     "name": "stdin",
     "output_type": "stream",
     "text": [
      " files.txt\n"
     ]
    },
    {
     "name": "stdout",
     "output_type": "stream",
     "text": [
      "hello\n",
      "\n",
      "world\n",
      "2\n"
     ]
    }
   ],
   "source": [
    "# read the string baseFilename\n",
    "baseFilename = input()\n",
    "\n",
    "# maintain a handle on all of our opened files\n",
    "fileMaps = {\n",
    "    \"c\": None,\n",
    "    \"cpp\": None,\n",
    "    \"cs\": None\n",
    "}\n",
    "\n",
    "def readLineFromFile(fileHandler):\n",
    "    while True:\n",
    "        line = fileHandler.readline()\n",
    "        if line == \"\": break\n",
    "        yield line\n",
    "\n",
    "\n",
    "with open(baseFilename, \"r\") as fileHandler:\n",
    "    count = 0\n",
    "    for line in readLineFromFile(fileHandler):\n",
    "        count += 1\n",
    "        print(line)\n",
    "    print(count)"
   ]
  },
  {
   "cell_type": "code",
   "execution_count": 5,
   "metadata": {},
   "outputs": [
    {
     "data": {
      "text/plain": [
       "2"
      ]
     },
     "execution_count": 5,
     "metadata": {},
     "output_type": "execute_result"
    }
   ],
   "source": [
    "\"ss.swa\".find(\".\")"
   ]
  },
  {
   "cell_type": "code",
   "execution_count": 7,
   "metadata": {},
   "outputs": [],
   "source": [
    "supported_exts = (\"c\", \"cpp\", \"cs\")\n",
    "fileMaps = { ext: open(f\"{ext}_{baseFilename}\", \"w\") for ext in supported_exts }"
   ]
  },
  {
   "cell_type": "code",
   "execution_count": 10,
   "metadata": {},
   "outputs": [],
   "source": [
    "fileMaps[\"cs\"].close()"
   ]
  },
  {
   "cell_type": "code",
   "execution_count": null,
   "metadata": {},
   "outputs": [],
   "source": []
  }
 ],
 "metadata": {
  "kernelspec": {
   "display_name": "Python 3",
   "language": "python",
   "name": "python3"
  },
  "language_info": {
   "codemirror_mode": {
    "name": "ipython",
    "version": 3
   },
   "file_extension": ".py",
   "mimetype": "text/x-python",
   "name": "python",
   "nbconvert_exporter": "python",
   "pygments_lexer": "ipython3",
   "version": "3.7.6"
  }
 },
 "nbformat": 4,
 "nbformat_minor": 4
}
