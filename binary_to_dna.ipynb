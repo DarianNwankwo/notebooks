{
 "cells": [
  {
   "cell_type": "markdown",
   "metadata": {},
   "source": [
    "# Binary to DNA Conversion\n",
    "We'll assume the ordering of the characters in the string implies their relative magnitude. In much the same way a decimal or binary system works, i.e. \"01\" or \"0123456789\", where 0 < 1 in a binary system."
   ]
  },
  {
   "cell_type": "code",
   "execution_count": 71,
   "metadata": {},
   "outputs": [],
   "source": [
    "import numpy as np\n",
    "\n",
    "from baseconvert import base\n",
    "from math import ceil, log\n",
    "from PIL import Image"
   ]
  },
  {
   "cell_type": "code",
   "execution_count": 33,
   "metadata": {},
   "outputs": [],
   "source": [
    "DNA_NUCLEOTIDES = \"ATCG\" # [::-1]"
   ]
  },
  {
   "cell_type": "code",
   "execution_count": 52,
   "metadata": {},
   "outputs": [],
   "source": [
    "# First, we convert values from decimal to binary\n",
    "# Then, we convert values from binary to quaternary\n",
    "# Finally, we map the quaternary numbers to nucleotides\n",
    "def numberToBase(n: int, b: int) -> str:\n",
    "    if n == 0:\n",
    "        return \"0\"\n",
    "    digits = []\n",
    "    while n:\n",
    "        digits.append(int(n % b))\n",
    "        n //= b\n",
    "    return \"\".join(list(map(str, digits[::-1])))\n",
    "\n",
    "\n",
    "def quartenaryToNucleotide(q) -> str:\n",
    "    nucleotides = []\n",
    "    for digit in q:\n",
    "        ndx = int(digit)\n",
    "        nucleotides.append(DNA_NUCLEOTIDES[ndx])\n",
    "    return \"\".join(nucleotides)\n",
    "\n",
    "\n",
    "def nucleotideToQuartenary(n) -> str:\n",
    "    quartenary = []\n",
    "    for digit in n:\n",
    "        quartenary.append(DNA_NUCLEOTIDES.index(digit))\n",
    "    return \"\".join(map(str, quartenary))"
   ]
  },
  {
   "cell_type": "code",
   "execution_count": 53,
   "metadata": {},
   "outputs": [],
   "source": [
    "BINARY = 2\n",
    "QUARTENARY = 4\n",
    "DECIMAL = 10\n",
    "num = 1141\n",
    "\n",
    "toBin = numberToBase(num, BINARY)\n",
    "toQuar = numberToBase(num, QUARTENARY)"
   ]
  },
  {
   "cell_type": "code",
   "execution_count": 77,
   "metadata": {},
   "outputs": [
    {
     "data": {
      "text/plain": [
       "(1, 2, 7)"
      ]
     },
     "execution_count": 77,
     "metadata": {},
     "output_type": "execute_result"
    }
   ],
   "source": [
    "quartenaryToNucleotide(toQuar)\n",
    "num_from_dna = nucleotideToQuartenary(\"TGGG\")\n",
    "num = numberToBase(int(num), 10)\n",
    "base(list(map(int, num)), 4, 10)"
   ]
  },
  {
   "cell_type": "code",
   "execution_count": 27,
   "metadata": {},
   "outputs": [],
   "source": [
    "# Read in image file of us as binary. Each element is a number from 0-255 representing the intensity\n",
    "# of the respective color channel (red, blue, green)\n",
    "data = \"\"\n",
    "with open(\"images/us.jpg\", \"rb\") as dashley_img:\n",
    "    data = dashley_img.read()\n",
    "    \n",
    "# Now, we iterate across our container and convert each decimal value to that of\n",
    "base4_data = []\n",
    "for d in data:\n",
    "    # Converts each base 10 value to base 4 (with padded zeros where necessary)\n",
    "    base4_data.append(\n",
    "        numberToBase(d, QUARTENARY).zfill(4)\n",
    "    )\n",
    "    \n",
    "# Join string together then convert to nucleotide sequence\n",
    "base4_data = \"\".join(base4_data)\n",
    "data_as_dna = quartenaryToNucleotide(base4_data)"
   ]
  },
  {
   "cell_type": "code",
   "execution_count": 93,
   "metadata": {},
   "outputs": [],
   "source": [
    "# For every four characters, add that to an array \n",
    "original_data = []\n",
    "for begin in range(len(data_as_dna) // 4):\n",
    "    nucleotide_sequence = data_as_dna[begin : begin+4]\n",
    "    nucleotide_numeric = nucleotideToQuartenary(nucleotide_sequence)\n",
    "    conversion_step = base(list(map(int, nucleotide_numeric)), 4, 10)\n",
    "    original_numeric = int(\"\".join(map(str, conversion_step)))\n",
    "    original_data.append(original_numeric)"
   ]
  },
  {
   "cell_type": "code",
   "execution_count": 94,
   "metadata": {},
   "outputs": [],
   "source": [
    "original_data = np.asarray(original_data)"
   ]
  },
  {
   "cell_type": "code",
   "execution_count": 102,
   "metadata": {},
   "outputs": [
    {
     "data": {
      "text/plain": [
       "15178"
      ]
     },
     "execution_count": 102,
     "metadata": {},
     "output_type": "execute_result"
    }
   ],
   "source": [
    "len(original_data)"
   ]
  },
  {
   "cell_type": "code",
   "execution_count": 110,
   "metadata": {},
   "outputs": [
    {
     "data": {
      "text/plain": [
       "b'\\xff\\x00\\x00\\x00\\x00\\x00\\x00\\x00\\xff\\x00'"
      ]
     },
     "execution_count": 110,
     "metadata": {},
     "output_type": "execute_result"
    }
   ],
   "source": [
    "bytes(original_data)[0:10]"
   ]
  },
  {
   "cell_type": "code",
   "execution_count": 111,
   "metadata": {},
   "outputs": [
    {
     "data": {
      "text/plain": [
       "b'\\xff\\xd8\\xff\\xe0\\x00\\x10JFIF'"
      ]
     },
     "execution_count": 111,
     "metadata": {},
     "output_type": "execute_result"
    }
   ],
   "source": [
    "data[0:10]"
   ]
  },
  {
   "cell_type": "code",
   "execution_count": null,
   "metadata": {},
   "outputs": [],
   "source": []
  }
 ],
 "metadata": {
  "kernelspec": {
   "display_name": "Python 3",
   "language": "python",
   "name": "python3"
  },
  "language_info": {
   "codemirror_mode": {
    "name": "ipython",
    "version": 3
   },
   "file_extension": ".py",
   "mimetype": "text/x-python",
   "name": "python",
   "nbconvert_exporter": "python",
   "pygments_lexer": "ipython3",
   "version": "3.8.5"
  }
 },
 "nbformat": 4,
 "nbformat_minor": 4
}
