{
 "cells": [
  {
   "cell_type": "markdown",
   "metadata": {},
   "source": [
    "# Binary to DNA Conversion\n",
    "We'll assume the ordering of the characters in the string implies their relative magnitude. In much the same way a decimal or binary system works, i.e. \"01\" or \"0123456789\", where 0 < 1 in a binary system."
   ]
  },
  {
   "cell_type": "code",
   "execution_count": 1,
   "metadata": {},
   "outputs": [],
   "source": [
    "from math import ceil, log"
   ]
  },
  {
   "cell_type": "code",
   "execution_count": 2,
   "metadata": {},
   "outputs": [],
   "source": [
    "DNA_NUCLEOTIDES = \"ATCG\" # [::-1]"
   ]
  },
  {
   "cell_type": "code",
   "execution_count": 17,
   "metadata": {},
   "outputs": [],
   "source": [
    "# First, we convert values from decimal to binary\n",
    "# Then, we convert values from binary to quaternary\n",
    "# Finally, we map the quaternary numbers to nucleotides\n",
    "def numberToBase(n, b):\n",
    "    if n == 0:\n",
    "        return \"0\"\n",
    "    digits = []\n",
    "    while n:\n",
    "        digits.append(int(n % b))\n",
    "        n //= b\n",
    "    return \"\".join(list(map(str, digits[::-1])))\n",
    "\n",
    "\n",
    "def quartenaryToNucleotide(q):\n",
    "    nucleotides = []\n",
    "    for digit in q:\n",
    "        ndx = int(digit)\n",
    "        nucleotides.append(DNA_NUCLEOTIDES[ndx])\n",
    "    return \"\".join(nucleotides)"
   ]
  },
  {
   "cell_type": "code",
   "execution_count": 18,
   "metadata": {},
   "outputs": [],
   "source": [
    "BINARY = 2\n",
    "QUARTENARY = 4\n",
    "DECIMAL = 10\n",
    "num = 1141\n",
    "\n",
    "toBin = numberToBase(num, BINARY)\n",
    "toQuar = numberToBase(num, QUARTENARY)"
   ]
  },
  {
   "cell_type": "code",
   "execution_count": 24,
   "metadata": {},
   "outputs": [
    {
     "data": {
      "text/plain": [
       "'101311'"
      ]
     },
     "execution_count": 24,
     "metadata": {},
     "output_type": "execute_result"
    }
   ],
   "source": [
    "quartenaryToNucleotide(toQuar)\n",
    "toQuar"
   ]
  },
  {
   "cell_type": "code",
   "execution_count": 27,
   "metadata": {},
   "outputs": [],
   "source": [
    "# Read in image file of us as binary. Each element is a number from 0-255 representing the intensity\n",
    "# of the respective color channel (red, blue, green)\n",
    "data = \"\"\n",
    "with open(\"images/us.jpg\", \"rb\") as dashley_img:\n",
    "    data = dashley_img.read()\n",
    "    \n",
    "# Now, we iterate across our container and convert each decimal value to that of\n",
    "base4_data = []\n",
    "for d in data:\n",
    "    # Converts each base 10 value to base 4 (with padded zeros where necessary)\n",
    "    base4_data.append(\n",
    "        numberToBase(d, QUARTENARY).zfill(4)\n",
    "    )\n",
    "    \n",
    "# Join string together then convert to nucleotide sequence\n",
    "base4_data = \"\".join(base4_data)\n",
    "data_as_dna = quartenaryToNucleotide(base4_data)"
   ]
  },
  {
   "cell_type": "code",
   "execution_count": 29,
   "metadata": {},
   "outputs": [
    {
     "data": {
      "text/plain": [
       "60712"
      ]
     },
     "execution_count": 29,
     "metadata": {},
     "output_type": "execute_result"
    }
   ],
   "source": [
    "# The interesting part is recovering the original image"
   ]
  }
 ],
 "metadata": {
  "kernelspec": {
   "display_name": "Python 3",
   "language": "python",
   "name": "python3"
  },
  "language_info": {
   "codemirror_mode": {
    "name": "ipython",
    "version": 3
   },
   "file_extension": ".py",
   "mimetype": "text/x-python",
   "name": "python",
   "nbconvert_exporter": "python",
   "pygments_lexer": "ipython3",
   "version": "3.8.5"
  }
 },
 "nbformat": 4,
 "nbformat_minor": 4
}
