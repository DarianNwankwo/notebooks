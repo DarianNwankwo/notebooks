{
 "cells": [
  {
   "cell_type": "code",
   "execution_count": 4,
   "id": "3efc175b",
   "metadata": {},
   "outputs": [],
   "source": [
    "#include <iostream>\n",
    "using std::cout;"
   ]
  },
  {
   "cell_type": "code",
   "execution_count": 3,
   "id": "e275cb08",
   "metadata": {},
   "outputs": [],
   "source": [
    "void AddOne(int j) {\n",
    "    j++;\n",
    "}"
   ]
  },
  {
   "cell_type": "code",
   "execution_count": 5,
   "id": "6d2fe93f",
   "metadata": {},
   "outputs": [],
   "source": [
    "void AddOne(int* j) {\n",
    "    // Dereference the pointer and increment the int being pointed to.\n",
    "    (*j)++;\n",
    "}"
   ]
  },
  {
   "cell_type": "code",
   "execution_count": 7,
   "id": "c7afddb3",
   "metadata": {},
   "outputs": [
    {
     "name": "stdout",
     "output_type": "stream",
     "text": [
      "1.45 ns +- 0.0229 ns per loop (mean +- std. dev. of 7 runs 1000000000 loops each)\n"
     ]
    }
   ],
   "source": [
    "int j = 0;"
   ]
  },
  {
   "cell_type": "code",
   "execution_count": null,
   "id": "7c0a3bb4",
   "metadata": {},
   "outputs": [],
   "source": [
    "%timeit\n",
    "AddOne(j);"
   ]
  },
  {
   "cell_type": "code",
   "execution_count": null,
   "id": "4a3d3391",
   "metadata": {},
   "outputs": [],
   "source": [
    "j = 0;\n",
    "int* pj = &j;"
   ]
  },
  {
   "cell_type": "code",
   "execution_count": null,
   "id": "976cbb8a",
   "metadata": {},
   "outputs": [],
   "source": []
  }
 ],
 "metadata": {
  "kernelspec": {
   "display_name": "C++17",
   "language": "C++17",
   "name": "xcpp17"
  },
  "language_info": {
   "codemirror_mode": "text/x-c++src",
   "file_extension": ".cpp",
   "mimetype": "text/x-c++src",
   "name": "c++",
   "version": "17"
  }
 },
 "nbformat": 4,
 "nbformat_minor": 5
}
