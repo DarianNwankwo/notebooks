{
 "cells": [
  {
   "cell_type": "code",
   "execution_count": 15,
   "id": "f5bc0bb8",
   "metadata": {},
   "outputs": [],
   "source": [
    "#include <iostream>\n",
    "#include <vector>\n",
    "#include <unordered_map>\n",
    "#include <string>\n",
    "using std::vector;\n",
    "using std::cout;\n",
    "using std::unordered_map;\n",
    "using std::string;"
   ]
  },
  {
   "cell_type": "code",
   "execution_count": 3,
   "id": "ae016eb6",
   "metadata": {},
   "outputs": [],
   "source": [
    "void AddOne(int j) {\n",
    "    j++;\n",
    "}"
   ]
  },
  {
   "cell_type": "code",
   "execution_count": 5,
   "id": "8f7e7482",
   "metadata": {},
   "outputs": [],
   "source": [
    "void AddOne(int* j) {\n",
    "    // Dereference the pointer and increment the int being pointed to.\n",
    "    (*j)++;\n",
    "}"
   ]
  },
  {
   "cell_type": "code",
   "execution_count": 9,
   "id": "59fafb71",
   "metadata": {},
   "outputs": [],
   "source": [
    "int j = 0;"
   ]
  },
  {
   "cell_type": "code",
   "execution_count": 10,
   "id": "3c215ff3",
   "metadata": {},
   "outputs": [
    {
     "name": "stdout",
     "output_type": "stream",
     "text": [
      "2.15 ns +- 0.122 ns per loop (mean +- std. dev. of 7 runs 100000000 loops each)\n"
     ]
    }
   ],
   "source": [
    "%timeit\n",
    "AddOne(j);"
   ]
  },
  {
   "cell_type": "code",
   "execution_count": 11,
   "id": "f0e13cec",
   "metadata": {},
   "outputs": [],
   "source": [
    "j = 0;\n",
    "int* pj = &j;"
   ]
  },
  {
   "cell_type": "code",
   "execution_count": 12,
   "id": "8e45b2ab",
   "metadata": {},
   "outputs": [
    {
     "name": "stdout",
     "output_type": "stream",
     "text": [
      "7.27 ns +- 0.0528 ns per loop (mean +- std. dev. of 7 runs 100000000 loops each)\n"
     ]
    }
   ],
   "source": [
    "%timeit\n",
    "AddOne(pj);"
   ]
  },
  {
   "cell_type": "code",
   "execution_count": null,
   "id": "dfd01220",
   "metadata": {},
   "outputs": [],
   "source": []
  }
 ],
 "metadata": {
  "kernelspec": {
   "display_name": "C++17",
   "language": "C++17",
   "name": "xcpp17"
  },
  "language_info": {
   "codemirror_mode": "text/x-c++src",
   "file_extension": ".cpp",
   "mimetype": "text/x-c++src",
   "name": "c++",
   "version": "17"
  }
 },
 "nbformat": 4,
 "nbformat_minor": 5
}
