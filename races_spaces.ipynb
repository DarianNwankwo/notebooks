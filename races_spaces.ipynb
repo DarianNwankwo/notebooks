{
 "cells": [
  {
   "cell_type": "markdown",
   "metadata": {},
   "source": [
    "# Encoding Races into a Vector Space\n",
    "Suppose we have some arbitrarily long list of races, represented as a string, and we'd like to embed all races into a vector space. Further assuming that all races provided are fundamental and any non-fundamental race can\n",
    "be represented as some linear combination of the fundamental races."
   ]
  },
  {
   "cell_type": "code",
   "execution_count": 6,
   "metadata": {},
   "outputs": [],
   "source": [
    "import numpy as np"
   ]
  },
  {
   "cell_type": "code",
   "execution_count": 35,
   "metadata": {},
   "outputs": [],
   "source": [
    "RACES = (\n",
    "    \"American Indian\",\n",
    "    \"Asian\",\n",
    "    \"Black\",\n",
    "    \"Hispanic\",\n",
    "    \"Native Hawaiin\",\n",
    "    \"White\"\n",
    ")\n",
    "RACES_INDICES = { race: ndx for (ndx, race) in enumerate(RACES) }"
   ]
  },
  {
   "cell_type": "markdown",
   "metadata": {},
   "source": [
    "## Onward\n",
    "In practice, you might look for a more flexible way of creating the representation of races above, but the idea is that given a list of races, we can create the indices associated with each race uniquely and seamlessly. Here, we provide a way for constructing vector's of races by providing a 2D array where each element is the individuals race and \"how much\" of that race they are. Obviously, the sum total of \"how much\" of each race an individual is must sum to unity."
   ]
  },
  {
   "cell_type": "code",
   "execution_count": 42,
   "metadata": {},
   "outputs": [],
   "source": [
    "def createVectorForRaces(races_and_pcts):\n",
    "    \"\"\"\n",
    "    Creates a vector of length size(RACES_INDICES) and assigns \"how much\" of each race an individual is a\n",
    "    vector, based on the indices in RACES_INDICES\n",
    "    \n",
    "    Args:\n",
    "        races_and_pcts: An array of 2-tuples representing race and percentage of said race [(race, pct_race), ...]\n",
    "        pct_race must sum to unity!\n",
    "        \n",
    "    Returns:\n",
    "        A vector of length size(RACES_INDICES)\n",
    "    \"\"\"\n",
    "    racesVector = np.zeros(len(RACES), dtype=np.float16) # My choice of variable name here is full of jokes I won't elaborate on :)\n",
    "    \n",
    "    # Ensures our constraint is maintained\n",
    "    isUnity = abs(sum(map(lambda rap : rap[1], races_and_pcts)) - 1.0)\n",
    "    assert isUnity < 1e-1\n",
    "    \n",
    "    for (race, pct) in races_and_pcts:\n",
    "        rndx = RACES_INDICES[race] # may want to check before hand that the races provided exist, but let's assume they do\n",
    "        racesVector[rndx] = pct\n",
    "    \n",
    "    return racesVector"
   ]
  },
  {
   "cell_type": "code",
   "execution_count": 43,
   "metadata": {},
   "outputs": [
    {
     "data": {
      "text/plain": [
       "array([0. , 0. , 0.5, 0. , 0. , 0.5], dtype=float16)"
      ]
     },
     "execution_count": 43,
     "metadata": {},
     "output_type": "execute_result"
    }
   ],
   "source": [
    "createVectorForRaces([\n",
    "    (\"White\", .5),\n",
    "    (\"Black\", .5)\n",
    "])"
   ]
  },
  {
   "cell_type": "markdown",
   "metadata": {},
   "source": [
    "## What's next?\n",
    "Now that we've created a consistent encoder of race information to vectors, we can use standard similarity measures\n",
    "([inner products](https://en.wikipedia.org/wiki/Inner_product_space)) to see how similar two individuals are, based strictly on their race."
   ]
  },
  {
   "cell_type": "code",
   "execution_count": 45,
   "metadata": {},
   "outputs": [
    {
     "name": "stdout",
     "output_type": "stream",
     "text": [
      "How similar, ethnically speaking, is a black person to a white person? ==> 0.0\n",
      "How similar, ethnically speaking, is a black person to an evenly distributed (asian, white, black) person? ==> 0.330078125\n",
      "How similar, ethnically speaking, is a black person to a non-evenly distributed (asian, white, black) person? ==> 0.25\n"
     ]
    }
   ],
   "source": [
    "blackPerson = createVectorForRaces([(\"Black\", 1.)])\n",
    "whitePerson = createVectorForRaces([(\"White\", 1.)])\n",
    "abwPerson = createVectorForRaces([\n",
    "    (\"Black\", .25),\n",
    "    (\"White\", .15),\n",
    "    (\"Asian\", .6)\n",
    "])\n",
    "abwPersonEven = createVectorForRaces([\n",
    "    (\"Black\", .33),\n",
    "    (\"White\", .33),\n",
    "    (\"Asian\", .33)\n",
    "])\n",
    "print(f\"How similar, ethnically speaking, is a black person to a white person? ==> {np.dot(blackPerson, whitePerson)}\")\n",
    "print(f\"How similar, ethnically speaking, is a black person to an evenly distributed (asian, white, black) person? ==> {np.dot(blackPerson, abwPersonEven)}\")\n",
    "print(f\"How similar, ethnically speaking, is a black person to a non-evenly distributed (asian, white, black) person? ==> {np.dot(blackPerson, abwPerson)}\")"
   ]
  },
  {
   "cell_type": "markdown",
   "metadata": {},
   "source": [
    "## What does this mean?\n",
    "Of course, further analysis could be done, but what the above is suggesting is that someone of mixed race can have varying similarities to\n",
    "someone of an exact race. This is intuitive since we're dealing with vectors here and looking at norms in Euclidean space, so we're imbuing\n",
    "these numerical results with sociological meaning. Whether such meaning makes sense depends on the application of choice and subsequent\n",
    "results, but the following serves as a minimal example of encoding races into a vector space."
   ]
  },
  {
   "cell_type": "code",
   "execution_count": null,
   "metadata": {},
   "outputs": [],
   "source": []
  }
 ],
 "metadata": {
  "kernelspec": {
   "display_name": "Python 3",
   "language": "python",
   "name": "python3"
  },
  "language_info": {
   "codemirror_mode": {
    "name": "ipython",
    "version": 3
   },
   "file_extension": ".py",
   "mimetype": "text/x-python",
   "name": "python",
   "nbconvert_exporter": "python",
   "pygments_lexer": "ipython3",
   "version": "3.8.5"
  }
 },
 "nbformat": 4,
 "nbformat_minor": 4
}
